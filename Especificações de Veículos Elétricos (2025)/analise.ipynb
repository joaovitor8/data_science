{
 "cells": [
  {
   "cell_type": "markdown",
   "id": "0825c1fb",
   "metadata": {},
   "source": [
    "Este projeto tem como objetivo explorar um conjunto de dados com especificações de veículos elétricos disponíveis em 2025, identificando padrões, relações e oportunidades para análise preditiva.\n",
    "\n",
    "Fonte: https://www.kaggle.com/datasets/urvishahir/electric-vehicle-specifications-dataset-2025"
   ]
  },
  {
   "cell_type": "code",
   "execution_count": null,
   "id": "ebf918bf",
   "metadata": {},
   "outputs": [],
   "source": [
    "import pandas as pd\n",
    "import numpy as np"
   ]
  },
  {
   "cell_type": "code",
   "execution_count": null,
   "id": "582747ea",
   "metadata": {},
   "outputs": [],
   "source": [
    "dados = pd.read_csv('electric_vehicles_spec_2025.csv')\n",
    "\n",
    "dados.head()"
   ]
  },
  {
   "cell_type": "code",
   "execution_count": null,
   "id": "cffc4777",
   "metadata": {},
   "outputs": [],
   "source": [
    "dados.info()"
   ]
  },
  {
   "cell_type": "code",
   "execution_count": null,
   "id": "c69f2d54",
   "metadata": {},
   "outputs": [],
   "source": [
    "dados.describe()"
   ]
  },
  {
   "cell_type": "code",
   "execution_count": null,
   "id": "cd1d7d2c",
   "metadata": {},
   "outputs": [],
   "source": [
    "dados.isnull().sum()"
   ]
  },
  {
   "cell_type": "markdown",
   "id": "ce1a3d45",
   "metadata": {},
   "source": [
    "Perguntas para Análise Exploratória (EDA)\n",
    "\n",
    "Quais marcas oferecem mais modelos de veículos elétricos?\n",
    "Qual é a distribuição da autonomia (range_km) entre os veículos?\n",
    "Quais são os veículos com maior e menor autonomia?\n",
    "Qual a relação entre eficiência energética (efficiency_wh_per_km) e autonomia?\n",
    "Veículos com mais bateria (battery_capacity_kWh) têm sempre mais autonomia?\n",
    "Como a aceleração (0–100 km/h) varia entre os diferentes tipos de tração (drivetrain)?\n",
    "SUVs realmente são menos eficientes do que carros compactos?\n",
    "Qual a média de velocidade máxima por tipo de carroceria (car_body_type)?\n",
    "Os carros de maior torque também são os mais rápidos?\n",
    "Existe alguma relação entre o tamanho do carro (length_mm, width_mm, height_mm) e sua autonomia ou eficiência?"
   ]
  },
  {
   "cell_type": "markdown",
   "id": "9b78c145",
   "metadata": {},
   "source": [
    "Perguntas para Visualização Comparativa\n",
    "\n",
    "Quais segmentos (segment) de carros dominam o mercado elétrico atual?\n",
    "Qual é a relação entre tipo de bateria e capacidade/autonomia?\n",
    "Qual o top 10 modelos com maior autonomia no mercado?\n",
    "Quantos veículos suportam carregamento rápido (fast_charging_power_kw_dc > X)?\n",
    "Distribuição do número de assentos: existem muitos veículos elétricos de 7 lugares?\n"
   ]
  },
  {
   "cell_type": "markdown",
   "id": "b136248b",
   "metadata": {},
   "source": [
    "Perguntas para Modelagem Preditiva (caso queira ir além)\n",
    "\n",
    "É possível prever a autonomia (range_km) de um carro com base em suas especificações técnicas?\n",
    "Dado o tamanho, peso e bateria, qual seria o tipo mais provável de carroceria (SUV, Sedan, etc.)?\n",
    "Como prever a aceleração de um carro com base em torque, peso e tração?\n"
   ]
  },
  {
   "cell_type": "markdown",
   "id": "cd759a0d",
   "metadata": {},
   "source": [
    " Perguntas para insights de mercado e storytelling\n",
    "\n",
    "Quais marcas estão focando mais em performance (alta velocidade e aceleração)?\n",
    "Qual o perfil do carro elétrico “ideal” em 2025? (em termos de alcance, velocidade, tamanho)\n",
    "Que tipo de carro domina o segmento urbano? E o interurbano?\n",
    "Há uma tendência de carros mais rápidos, maiores ou mais econômicos?\n",
    "Existe um trade-off claro entre performance e eficiência energética?\n"
   ]
  }
 ],
 "metadata": {
  "kernelspec": {
   "display_name": "Python 3",
   "language": "python",
   "name": "python3"
  },
  "language_info": {
   "codemirror_mode": {
    "name": "ipython",
    "version": 3
   },
   "file_extension": ".py",
   "mimetype": "text/x-python",
   "name": "python",
   "nbconvert_exporter": "python",
   "pygments_lexer": "ipython3",
   "version": "3.13.1"
  }
 },
 "nbformat": 4,
 "nbformat_minor": 5
}
